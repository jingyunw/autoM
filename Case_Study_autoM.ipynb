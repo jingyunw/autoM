{
 "cells": [
  {
   "cell_type": "markdown",
   "metadata": {},
   "source": [
    "# Case Study 09-01-2021 (2nd attempt)"
   ]
  },
  {
   "cell_type": "code",
   "execution_count": 1,
   "metadata": {},
   "outputs": [],
   "source": [
    "import pandas as pd\n",
    "pd.options.display.max_rows = 50"
   ]
  },
  {
   "cell_type": "markdown",
   "metadata": {},
   "source": [
    "## Data Understanding"
   ]
  },
  {
   "cell_type": "code",
   "execution_count": 2,
   "metadata": {},
   "outputs": [
    {
     "name": "stdout",
     "output_type": "stream",
     "text": [
      "Case Study - Data Analytics - 2021.xlsx Case_Study_09012021_2nd_Attempt.pdf\r\n",
      "Case_Study_09012021_2nd_Attempt.ipynb\r\n"
     ]
    }
   ],
   "source": [
    "!ls"
   ]
  },
  {
   "cell_type": "code",
   "execution_count": 3,
   "metadata": {},
   "outputs": [
    {
     "data": {
      "text/plain": [
       "(6721, 4)"
      ]
     },
     "metadata": {},
     "output_type": "display_data"
    },
    {
     "name": "stdout",
     "output_type": "stream",
     "text": [
      "<class 'pandas.core.frame.DataFrame'>\n",
      "RangeIndex: 6721 entries, 0 to 6720\n",
      "Data columns (total 4 columns):\n",
      " #   Column       Non-Null Count  Dtype \n",
      "---  ------       --------------  ----- \n",
      " 0   Dealer       6721 non-null   object\n",
      " 1   Year         6721 non-null   int64 \n",
      " 2   Month        6721 non-null   int64 \n",
      " 3   Total Sales  6721 non-null   int64 \n",
      "dtypes: int64(3), object(1)\n",
      "memory usage: 210.2+ KB\n"
     ]
    },
    {
     "data": {
      "text/plain": [
       "None"
      ]
     },
     "metadata": {},
     "output_type": "display_data"
    },
    {
     "data": {
      "text/html": [
       "<div>\n",
       "<style scoped>\n",
       "    .dataframe tbody tr th:only-of-type {\n",
       "        vertical-align: middle;\n",
       "    }\n",
       "\n",
       "    .dataframe tbody tr th {\n",
       "        vertical-align: top;\n",
       "    }\n",
       "\n",
       "    .dataframe thead th {\n",
       "        text-align: right;\n",
       "    }\n",
       "</style>\n",
       "<table border=\"1\" class=\"dataframe\">\n",
       "  <thead>\n",
       "    <tr style=\"text-align: right;\">\n",
       "      <th></th>\n",
       "      <th>Dealer</th>\n",
       "      <th>Year</th>\n",
       "      <th>Month</th>\n",
       "      <th>Total Sales</th>\n",
       "    </tr>\n",
       "  </thead>\n",
       "  <tbody>\n",
       "    <tr>\n",
       "      <th>0</th>\n",
       "      <td>CC0056</td>\n",
       "      <td>2019</td>\n",
       "      <td>10</td>\n",
       "      <td>65</td>\n",
       "    </tr>\n",
       "    <tr>\n",
       "      <th>1</th>\n",
       "      <td>BB0184</td>\n",
       "      <td>2019</td>\n",
       "      <td>11</td>\n",
       "      <td>80</td>\n",
       "    </tr>\n",
       "    <tr>\n",
       "      <th>2</th>\n",
       "      <td>AB0002</td>\n",
       "      <td>2019</td>\n",
       "      <td>11</td>\n",
       "      <td>127</td>\n",
       "    </tr>\n",
       "    <tr>\n",
       "      <th>3</th>\n",
       "      <td>CC0064</td>\n",
       "      <td>2019</td>\n",
       "      <td>12</td>\n",
       "      <td>162</td>\n",
       "    </tr>\n",
       "    <tr>\n",
       "      <th>4</th>\n",
       "      <td>MA0143</td>\n",
       "      <td>2019</td>\n",
       "      <td>11</td>\n",
       "      <td>170</td>\n",
       "    </tr>\n",
       "  </tbody>\n",
       "</table>\n",
       "</div>"
      ],
      "text/plain": [
       "   Dealer  Year  Month  Total Sales\n",
       "0  CC0056  2019     10           65\n",
       "1  BB0184  2019     11           80\n",
       "2  AB0002  2019     11          127\n",
       "3  CC0064  2019     12          162\n",
       "4  MA0143  2019     11          170"
      ]
     },
     "metadata": {},
     "output_type": "display_data"
    }
   ],
   "source": [
    "# Sales - Total\n",
    "df1 = pd.read_excel('Case Study - Data Analytics - 2021.xlsx', sheet_name=1)\n",
    "display(df1.shape)\n",
    "display(df1.info())\n",
    "display(df1.head())"
   ]
  },
  {
   "cell_type": "code",
   "execution_count": 4,
   "metadata": {},
   "outputs": [
    {
     "data": {
      "text/plain": [
       "array([2019])"
      ]
     },
     "execution_count": 4,
     "metadata": {},
     "output_type": "execute_result"
    }
   ],
   "source": [
    "df1['Year'].unique()"
   ]
  },
  {
   "cell_type": "code",
   "execution_count": 5,
   "metadata": {},
   "outputs": [
    {
     "data": {
      "text/plain": [
       "(1565, 5)"
      ]
     },
     "metadata": {},
     "output_type": "display_data"
    },
    {
     "name": "stdout",
     "output_type": "stream",
     "text": [
      "<class 'pandas.core.frame.DataFrame'>\n",
      "RangeIndex: 1565 entries, 0 to 1564\n",
      "Data columns (total 5 columns):\n",
      " #   Column          Non-Null Count  Dtype \n",
      "---  ------          --------------  ----- \n",
      " 0   Dealer          1565 non-null   object\n",
      " 1   Month           1565 non-null   int64 \n",
      " 2   Year            1565 non-null   int64 \n",
      " 3   Year Month      1565 non-null   int64 \n",
      " 4   Conquest Sales  1565 non-null   int64 \n",
      "dtypes: int64(4), object(1)\n",
      "memory usage: 61.3+ KB\n"
     ]
    },
    {
     "data": {
      "text/plain": [
       "None"
      ]
     },
     "metadata": {},
     "output_type": "display_data"
    },
    {
     "data": {
      "text/html": [
       "<div>\n",
       "<style scoped>\n",
       "    .dataframe tbody tr th:only-of-type {\n",
       "        vertical-align: middle;\n",
       "    }\n",
       "\n",
       "    .dataframe tbody tr th {\n",
       "        vertical-align: top;\n",
       "    }\n",
       "\n",
       "    .dataframe thead th {\n",
       "        text-align: right;\n",
       "    }\n",
       "</style>\n",
       "<table border=\"1\" class=\"dataframe\">\n",
       "  <thead>\n",
       "    <tr style=\"text-align: right;\">\n",
       "      <th></th>\n",
       "      <th>Dealer</th>\n",
       "      <th>Month</th>\n",
       "      <th>Year</th>\n",
       "      <th>Year Month</th>\n",
       "      <th>Conquest Sales</th>\n",
       "    </tr>\n",
       "  </thead>\n",
       "  <tbody>\n",
       "    <tr>\n",
       "      <th>0</th>\n",
       "      <td>TA0190</td>\n",
       "      <td>11</td>\n",
       "      <td>2019</td>\n",
       "      <td>43770</td>\n",
       "      <td>37</td>\n",
       "    </tr>\n",
       "    <tr>\n",
       "      <th>1</th>\n",
       "      <td>TA0214</td>\n",
       "      <td>12</td>\n",
       "      <td>2019</td>\n",
       "      <td>43800</td>\n",
       "      <td>34</td>\n",
       "    </tr>\n",
       "    <tr>\n",
       "      <th>2</th>\n",
       "      <td>TA0214</td>\n",
       "      <td>11</td>\n",
       "      <td>2019</td>\n",
       "      <td>43770</td>\n",
       "      <td>32</td>\n",
       "    </tr>\n",
       "    <tr>\n",
       "      <th>3</th>\n",
       "      <td>TA0168</td>\n",
       "      <td>12</td>\n",
       "      <td>2019</td>\n",
       "      <td>43800</td>\n",
       "      <td>31</td>\n",
       "    </tr>\n",
       "    <tr>\n",
       "      <th>4</th>\n",
       "      <td>CB0122</td>\n",
       "      <td>12</td>\n",
       "      <td>2019</td>\n",
       "      <td>43800</td>\n",
       "      <td>28</td>\n",
       "    </tr>\n",
       "  </tbody>\n",
       "</table>\n",
       "</div>"
      ],
      "text/plain": [
       "   Dealer  Month  Year  Year Month  Conquest Sales\n",
       "0  TA0190     11  2019       43770              37\n",
       "1  TA0214     12  2019       43800              34\n",
       "2  TA0214     11  2019       43770              32\n",
       "3  TA0168     12  2019       43800              31\n",
       "4  CB0122     12  2019       43800              28"
      ]
     },
     "metadata": {},
     "output_type": "display_data"
    }
   ],
   "source": [
    "# Sales - Conq\n",
    "df2 = pd.read_excel('Case Study - Data Analytics - 2021.xlsx', sheet_name=2)\n",
    "display(df2.shape)\n",
    "display(df2.info())\n",
    "display(df2.head())"
   ]
  },
  {
   "cell_type": "code",
   "execution_count": 6,
   "metadata": {},
   "outputs": [
    {
     "data": {
      "text/plain": [
       "array([2019])"
      ]
     },
     "execution_count": 6,
     "metadata": {},
     "output_type": "execute_result"
    }
   ],
   "source": [
    "df2['Year'].unique()"
   ]
  },
  {
   "cell_type": "code",
   "execution_count": 7,
   "metadata": {},
   "outputs": [
    {
     "data": {
      "text/plain": [
       "(12441, 6)"
      ]
     },
     "metadata": {},
     "output_type": "display_data"
    },
    {
     "name": "stdout",
     "output_type": "stream",
     "text": [
      "<class 'pandas.core.frame.DataFrame'>\n",
      "RangeIndex: 12441 entries, 0 to 12440\n",
      "Data columns (total 6 columns):\n",
      " #   Column                   Non-Null Count  Dtype         \n",
      "---  ------                   --------------  -----         \n",
      " 0   Dealer                   12441 non-null  object        \n",
      " 1   Month                    12441 non-null  int64         \n",
      " 2   Year                     12441 non-null  int64         \n",
      " 3   Year Month               12441 non-null  datetime64[ns]\n",
      " 4   TransactionType          12441 non-null  object        \n",
      " 5   Loyalty & Service Sales  12441 non-null  int64         \n",
      "dtypes: datetime64[ns](1), int64(3), object(2)\n",
      "memory usage: 583.3+ KB\n"
     ]
    },
    {
     "data": {
      "text/plain": [
       "None"
      ]
     },
     "metadata": {},
     "output_type": "display_data"
    },
    {
     "data": {
      "text/html": [
       "<div>\n",
       "<style scoped>\n",
       "    .dataframe tbody tr th:only-of-type {\n",
       "        vertical-align: middle;\n",
       "    }\n",
       "\n",
       "    .dataframe tbody tr th {\n",
       "        vertical-align: top;\n",
       "    }\n",
       "\n",
       "    .dataframe thead th {\n",
       "        text-align: right;\n",
       "    }\n",
       "</style>\n",
       "<table border=\"1\" class=\"dataframe\">\n",
       "  <thead>\n",
       "    <tr style=\"text-align: right;\">\n",
       "      <th></th>\n",
       "      <th>Dealer</th>\n",
       "      <th>Month</th>\n",
       "      <th>Year</th>\n",
       "      <th>Year Month</th>\n",
       "      <th>TransactionType</th>\n",
       "      <th>Loyalty &amp; Service Sales</th>\n",
       "    </tr>\n",
       "  </thead>\n",
       "  <tbody>\n",
       "    <tr>\n",
       "      <th>0</th>\n",
       "      <td>TA0131</td>\n",
       "      <td>12</td>\n",
       "      <td>2019</td>\n",
       "      <td>2019-12-01</td>\n",
       "      <td>aM Campaign</td>\n",
       "      <td>173</td>\n",
       "    </tr>\n",
       "    <tr>\n",
       "      <th>1</th>\n",
       "      <td>TA0131</td>\n",
       "      <td>10</td>\n",
       "      <td>2019</td>\n",
       "      <td>2019-10-01</td>\n",
       "      <td>aM Campaign</td>\n",
       "      <td>145</td>\n",
       "    </tr>\n",
       "    <tr>\n",
       "      <th>2</th>\n",
       "      <td>TA0131</td>\n",
       "      <td>11</td>\n",
       "      <td>2019</td>\n",
       "      <td>2019-11-01</td>\n",
       "      <td>aM Campaign</td>\n",
       "      <td>134</td>\n",
       "    </tr>\n",
       "    <tr>\n",
       "      <th>3</th>\n",
       "      <td>CB0080</td>\n",
       "      <td>10</td>\n",
       "      <td>2019</td>\n",
       "      <td>2019-10-01</td>\n",
       "      <td>aM Campaign</td>\n",
       "      <td>127</td>\n",
       "    </tr>\n",
       "    <tr>\n",
       "      <th>4</th>\n",
       "      <td>TA0169</td>\n",
       "      <td>10</td>\n",
       "      <td>2019</td>\n",
       "      <td>2019-10-01</td>\n",
       "      <td>aM Campaign</td>\n",
       "      <td>126</td>\n",
       "    </tr>\n",
       "  </tbody>\n",
       "</table>\n",
       "</div>"
      ],
      "text/plain": [
       "   Dealer  Month  Year Year Month TransactionType  Loyalty & Service Sales\n",
       "0  TA0131     12  2019 2019-12-01     aM Campaign                      173\n",
       "1  TA0131     10  2019 2019-10-01     aM Campaign                      145\n",
       "2  TA0131     11  2019 2019-11-01     aM Campaign                      134\n",
       "3  CB0080     10  2019 2019-10-01     aM Campaign                      127\n",
       "4  TA0169     10  2019 2019-10-01     aM Campaign                      126"
      ]
     },
     "metadata": {},
     "output_type": "display_data"
    }
   ],
   "source": [
    "# Sales - Loyal\n",
    "df3 = pd.read_excel('Case Study - Data Analytics - 2021.xlsx', sheet_name=3)\n",
    "display(df3.shape)\n",
    "display(df3.info())\n",
    "display(df3.head())"
   ]
  },
  {
   "cell_type": "code",
   "execution_count": 8,
   "metadata": {},
   "outputs": [
    {
     "data": {
      "text/plain": [
       "array([2019])"
      ]
     },
     "execution_count": 8,
     "metadata": {},
     "output_type": "execute_result"
    }
   ],
   "source": [
    "df3['Year'].unique()"
   ]
  },
  {
   "cell_type": "code",
   "execution_count": 9,
   "metadata": {},
   "outputs": [
    {
     "data": {
      "text/plain": [
       "(4863, 6)"
      ]
     },
     "metadata": {},
     "output_type": "display_data"
    },
    {
     "name": "stdout",
     "output_type": "stream",
     "text": [
      "<class 'pandas.core.frame.DataFrame'>\n",
      "RangeIndex: 4863 entries, 0 to 4862\n",
      "Data columns (total 6 columns):\n",
      " #   Column           Non-Null Count  Dtype  \n",
      "---  ------           --------------  -----  \n",
      " 0   Email_month      4863 non-null   object \n",
      " 1   Email_Year Full  4863 non-null   int64  \n",
      " 2   Dealer           4863 non-null   object \n",
      " 3   Sent             4863 non-null   int64  \n",
      " 4   Delivered        4863 non-null   int64  \n",
      " 5   Delivery %       4863 non-null   float64\n",
      "dtypes: float64(1), int64(3), object(2)\n",
      "memory usage: 228.1+ KB\n"
     ]
    },
    {
     "data": {
      "text/plain": [
       "None"
      ]
     },
     "metadata": {},
     "output_type": "display_data"
    },
    {
     "data": {
      "text/html": [
       "<div>\n",
       "<style scoped>\n",
       "    .dataframe tbody tr th:only-of-type {\n",
       "        vertical-align: middle;\n",
       "    }\n",
       "\n",
       "    .dataframe tbody tr th {\n",
       "        vertical-align: top;\n",
       "    }\n",
       "\n",
       "    .dataframe thead th {\n",
       "        text-align: right;\n",
       "    }\n",
       "</style>\n",
       "<table border=\"1\" class=\"dataframe\">\n",
       "  <thead>\n",
       "    <tr style=\"text-align: right;\">\n",
       "      <th></th>\n",
       "      <th>Email_month</th>\n",
       "      <th>Email_Year Full</th>\n",
       "      <th>Dealer</th>\n",
       "      <th>Sent</th>\n",
       "      <th>Delivered</th>\n",
       "      <th>Delivery %</th>\n",
       "    </tr>\n",
       "  </thead>\n",
       "  <tbody>\n",
       "    <tr>\n",
       "      <th>0</th>\n",
       "      <td>October</td>\n",
       "      <td>2019</td>\n",
       "      <td>TA0131</td>\n",
       "      <td>26819</td>\n",
       "      <td>26210</td>\n",
       "      <td>0.977292</td>\n",
       "    </tr>\n",
       "    <tr>\n",
       "      <th>1</th>\n",
       "      <td>November</td>\n",
       "      <td>2019</td>\n",
       "      <td>TA0131</td>\n",
       "      <td>27324</td>\n",
       "      <td>25882</td>\n",
       "      <td>0.947226</td>\n",
       "    </tr>\n",
       "    <tr>\n",
       "      <th>2</th>\n",
       "      <td>December</td>\n",
       "      <td>2019</td>\n",
       "      <td>TA0131</td>\n",
       "      <td>26815</td>\n",
       "      <td>24118</td>\n",
       "      <td>0.899422</td>\n",
       "    </tr>\n",
       "    <tr>\n",
       "      <th>3</th>\n",
       "      <td>November</td>\n",
       "      <td>2019</td>\n",
       "      <td>TA0192</td>\n",
       "      <td>23607</td>\n",
       "      <td>21494</td>\n",
       "      <td>0.910493</td>\n",
       "    </tr>\n",
       "    <tr>\n",
       "      <th>4</th>\n",
       "      <td>November</td>\n",
       "      <td>2019</td>\n",
       "      <td>TA0220</td>\n",
       "      <td>20060</td>\n",
       "      <td>18882</td>\n",
       "      <td>0.941276</td>\n",
       "    </tr>\n",
       "  </tbody>\n",
       "</table>\n",
       "</div>"
      ],
      "text/plain": [
       "  Email_month  Email_Year Full  Dealer   Sent  Delivered  Delivery %\n",
       "0     October             2019  TA0131  26819      26210    0.977292\n",
       "1    November             2019  TA0131  27324      25882    0.947226\n",
       "2    December             2019  TA0131  26815      24118    0.899422\n",
       "3    November             2019  TA0192  23607      21494    0.910493\n",
       "4    November             2019  TA0220  20060      18882    0.941276"
      ]
     },
     "metadata": {},
     "output_type": "display_data"
    }
   ],
   "source": [
    "# Email Volume\n",
    "df4 = pd.read_excel('Case Study - Data Analytics - 2021.xlsx', sheet_name=4)\n",
    "display(df4.shape)\n",
    "display(df4.info())\n",
    "display(df4.head())"
   ]
  },
  {
   "cell_type": "code",
   "execution_count": 10,
   "metadata": {},
   "outputs": [
    {
     "data": {
      "text/plain": [
       "array([2019])"
      ]
     },
     "execution_count": 10,
     "metadata": {},
     "output_type": "execute_result"
    }
   ],
   "source": [
    "df4['Email_Year Full'].unique()"
   ]
  },
  {
   "cell_type": "code",
   "execution_count": 11,
   "metadata": {},
   "outputs": [
    {
     "data": {
      "text/plain": [
       "array(['October', 'November', 'December'], dtype=object)"
      ]
     },
     "execution_count": 11,
     "metadata": {},
     "output_type": "execute_result"
    }
   ],
   "source": [
    "df4['Email_month'].unique()"
   ]
  },
  {
   "cell_type": "code",
   "execution_count": 12,
   "metadata": {},
   "outputs": [
    {
     "data": {
      "text/html": [
       "<div>\n",
       "<style scoped>\n",
       "    .dataframe tbody tr th:only-of-type {\n",
       "        vertical-align: middle;\n",
       "    }\n",
       "\n",
       "    .dataframe tbody tr th {\n",
       "        vertical-align: top;\n",
       "    }\n",
       "\n",
       "    .dataframe thead th {\n",
       "        text-align: right;\n",
       "    }\n",
       "</style>\n",
       "<table border=\"1\" class=\"dataframe\">\n",
       "  <thead>\n",
       "    <tr style=\"text-align: right;\">\n",
       "      <th></th>\n",
       "      <th>Email_month</th>\n",
       "      <th>Email_Year Full</th>\n",
       "      <th>Dealer</th>\n",
       "      <th>Sent</th>\n",
       "      <th>Delivered</th>\n",
       "      <th>Delivery %</th>\n",
       "    </tr>\n",
       "  </thead>\n",
       "  <tbody>\n",
       "    <tr>\n",
       "      <th>0</th>\n",
       "      <td>10</td>\n",
       "      <td>2019</td>\n",
       "      <td>TA0131</td>\n",
       "      <td>26819</td>\n",
       "      <td>26210</td>\n",
       "      <td>0.977292</td>\n",
       "    </tr>\n",
       "    <tr>\n",
       "      <th>1</th>\n",
       "      <td>11</td>\n",
       "      <td>2019</td>\n",
       "      <td>TA0131</td>\n",
       "      <td>27324</td>\n",
       "      <td>25882</td>\n",
       "      <td>0.947226</td>\n",
       "    </tr>\n",
       "    <tr>\n",
       "      <th>2</th>\n",
       "      <td>12</td>\n",
       "      <td>2019</td>\n",
       "      <td>TA0131</td>\n",
       "      <td>26815</td>\n",
       "      <td>24118</td>\n",
       "      <td>0.899422</td>\n",
       "    </tr>\n",
       "    <tr>\n",
       "      <th>3</th>\n",
       "      <td>11</td>\n",
       "      <td>2019</td>\n",
       "      <td>TA0192</td>\n",
       "      <td>23607</td>\n",
       "      <td>21494</td>\n",
       "      <td>0.910493</td>\n",
       "    </tr>\n",
       "    <tr>\n",
       "      <th>4</th>\n",
       "      <td>11</td>\n",
       "      <td>2019</td>\n",
       "      <td>TA0220</td>\n",
       "      <td>20060</td>\n",
       "      <td>18882</td>\n",
       "      <td>0.941276</td>\n",
       "    </tr>\n",
       "  </tbody>\n",
       "</table>\n",
       "</div>"
      ],
      "text/plain": [
       "   Email_month  Email_Year Full  Dealer   Sent  Delivered  Delivery %\n",
       "0           10             2019  TA0131  26819      26210    0.977292\n",
       "1           11             2019  TA0131  27324      25882    0.947226\n",
       "2           12             2019  TA0131  26815      24118    0.899422\n",
       "3           11             2019  TA0192  23607      21494    0.910493\n",
       "4           11             2019  TA0220  20060      18882    0.941276"
      ]
     },
     "execution_count": 12,
     "metadata": {},
     "output_type": "execute_result"
    }
   ],
   "source": [
    "# Change \"Email_month\" from words to numbers\n",
    "month = []\n",
    "for m in df4['Email_month']:\n",
    "    if m == \"October\":\n",
    "        month.append(10)\n",
    "    elif m == \"November\":\n",
    "        month.append(11)\n",
    "    else:\n",
    "        month.append(12)\n",
    "df4['Email_month'] = month\n",
    "\n",
    "df4.head()"
   ]
  },
  {
   "cell_type": "markdown",
   "metadata": {},
   "source": [
    "## Q1 - Aggregate results for dealer IDs TA0131, MA0143, and CB0122 into a single worksheet of pivot-friendly/Tableau-friendly data. "
   ]
  },
  {
   "cell_type": "markdown",
   "metadata": {},
   "source": [
    "### Aggregate results for TA0131"
   ]
  },
  {
   "cell_type": "code",
   "execution_count": 13,
   "metadata": {},
   "outputs": [
    {
     "data": {
      "text/html": [
       "<div>\n",
       "<style scoped>\n",
       "    .dataframe tbody tr th:only-of-type {\n",
       "        vertical-align: middle;\n",
       "    }\n",
       "\n",
       "    .dataframe tbody tr th {\n",
       "        vertical-align: top;\n",
       "    }\n",
       "\n",
       "    .dataframe thead th {\n",
       "        text-align: right;\n",
       "    }\n",
       "</style>\n",
       "<table border=\"1\" class=\"dataframe\">\n",
       "  <thead>\n",
       "    <tr style=\"text-align: right;\">\n",
       "      <th></th>\n",
       "      <th>Year</th>\n",
       "      <th>Month</th>\n",
       "      <th>Total Sales</th>\n",
       "    </tr>\n",
       "    <tr>\n",
       "      <th>Dealer</th>\n",
       "      <th></th>\n",
       "      <th></th>\n",
       "      <th></th>\n",
       "    </tr>\n",
       "  </thead>\n",
       "  <tbody>\n",
       "    <tr>\n",
       "      <th>TA0131</th>\n",
       "      <td>2019</td>\n",
       "      <td>12</td>\n",
       "      <td>982</td>\n",
       "    </tr>\n",
       "    <tr>\n",
       "      <th>TA0131</th>\n",
       "      <td>2019</td>\n",
       "      <td>11</td>\n",
       "      <td>769</td>\n",
       "    </tr>\n",
       "    <tr>\n",
       "      <th>TA0131</th>\n",
       "      <td>2019</td>\n",
       "      <td>10</td>\n",
       "      <td>822</td>\n",
       "    </tr>\n",
       "  </tbody>\n",
       "</table>\n",
       "</div>"
      ],
      "text/plain": [
       "        Year  Month  Total Sales\n",
       "Dealer                          \n",
       "TA0131  2019     12          982\n",
       "TA0131  2019     11          769\n",
       "TA0131  2019     10          822"
      ]
     },
     "metadata": {},
     "output_type": "display_data"
    },
    {
     "data": {
      "text/html": [
       "<div>\n",
       "<style scoped>\n",
       "    .dataframe tbody tr th:only-of-type {\n",
       "        vertical-align: middle;\n",
       "    }\n",
       "\n",
       "    .dataframe tbody tr th {\n",
       "        vertical-align: top;\n",
       "    }\n",
       "\n",
       "    .dataframe thead th {\n",
       "        text-align: right;\n",
       "    }\n",
       "</style>\n",
       "<table border=\"1\" class=\"dataframe\">\n",
       "  <thead>\n",
       "    <tr style=\"text-align: right;\">\n",
       "      <th></th>\n",
       "      <th>Month</th>\n",
       "      <th>Year</th>\n",
       "      <th>Year Month</th>\n",
       "      <th>Conquest Sales</th>\n",
       "    </tr>\n",
       "    <tr>\n",
       "      <th>Dealer</th>\n",
       "      <th></th>\n",
       "      <th></th>\n",
       "      <th></th>\n",
       "      <th></th>\n",
       "    </tr>\n",
       "  </thead>\n",
       "  <tbody>\n",
       "    <tr>\n",
       "      <th>TA0131</th>\n",
       "      <td>12</td>\n",
       "      <td>2019</td>\n",
       "      <td>43800</td>\n",
       "      <td>24</td>\n",
       "    </tr>\n",
       "    <tr>\n",
       "      <th>TA0131</th>\n",
       "      <td>11</td>\n",
       "      <td>2019</td>\n",
       "      <td>43770</td>\n",
       "      <td>17</td>\n",
       "    </tr>\n",
       "    <tr>\n",
       "      <th>TA0131</th>\n",
       "      <td>10</td>\n",
       "      <td>2019</td>\n",
       "      <td>43739</td>\n",
       "      <td>18</td>\n",
       "    </tr>\n",
       "  </tbody>\n",
       "</table>\n",
       "</div>"
      ],
      "text/plain": [
       "        Month  Year  Year Month  Conquest Sales\n",
       "Dealer                                         \n",
       "TA0131     12  2019       43800              24\n",
       "TA0131     11  2019       43770              17\n",
       "TA0131     10  2019       43739              18"
      ]
     },
     "metadata": {},
     "output_type": "display_data"
    },
    {
     "data": {
      "text/html": [
       "<div>\n",
       "<style scoped>\n",
       "    .dataframe tbody tr th:only-of-type {\n",
       "        vertical-align: middle;\n",
       "    }\n",
       "\n",
       "    .dataframe tbody tr th {\n",
       "        vertical-align: top;\n",
       "    }\n",
       "\n",
       "    .dataframe thead th {\n",
       "        text-align: right;\n",
       "    }\n",
       "</style>\n",
       "<table border=\"1\" class=\"dataframe\">\n",
       "  <thead>\n",
       "    <tr style=\"text-align: right;\">\n",
       "      <th></th>\n",
       "      <th>Month</th>\n",
       "      <th>Year</th>\n",
       "      <th>Year Month</th>\n",
       "      <th>TransactionType</th>\n",
       "      <th>Loyalty &amp; Service Sales</th>\n",
       "    </tr>\n",
       "    <tr>\n",
       "      <th>Dealer</th>\n",
       "      <th></th>\n",
       "      <th></th>\n",
       "      <th></th>\n",
       "      <th></th>\n",
       "      <th></th>\n",
       "    </tr>\n",
       "  </thead>\n",
       "  <tbody>\n",
       "    <tr>\n",
       "      <th>TA0131</th>\n",
       "      <td>12</td>\n",
       "      <td>2019</td>\n",
       "      <td>2019-12-01</td>\n",
       "      <td>aM Campaign</td>\n",
       "      <td>173</td>\n",
       "    </tr>\n",
       "    <tr>\n",
       "      <th>TA0131</th>\n",
       "      <td>12</td>\n",
       "      <td>2019</td>\n",
       "      <td>2019-12-01</td>\n",
       "      <td>aM Direct</td>\n",
       "      <td>11</td>\n",
       "    </tr>\n",
       "    <tr>\n",
       "      <th>TA0131</th>\n",
       "      <td>12</td>\n",
       "      <td>2019</td>\n",
       "      <td>2019-12-01</td>\n",
       "      <td>sM Direct</td>\n",
       "      <td>7</td>\n",
       "    </tr>\n",
       "    <tr>\n",
       "      <th>TA0131</th>\n",
       "      <td>12</td>\n",
       "      <td>2019</td>\n",
       "      <td>2019-12-01</td>\n",
       "      <td>sM Campaign</td>\n",
       "      <td>4</td>\n",
       "    </tr>\n",
       "    <tr>\n",
       "      <th>TA0131</th>\n",
       "      <td>11</td>\n",
       "      <td>2019</td>\n",
       "      <td>2019-11-01</td>\n",
       "      <td>aM Campaign</td>\n",
       "      <td>134</td>\n",
       "    </tr>\n",
       "    <tr>\n",
       "      <th>TA0131</th>\n",
       "      <td>11</td>\n",
       "      <td>2019</td>\n",
       "      <td>2019-11-01</td>\n",
       "      <td>aM Direct</td>\n",
       "      <td>12</td>\n",
       "    </tr>\n",
       "    <tr>\n",
       "      <th>TA0131</th>\n",
       "      <td>11</td>\n",
       "      <td>2019</td>\n",
       "      <td>2019-11-01</td>\n",
       "      <td>sM Direct</td>\n",
       "      <td>8</td>\n",
       "    </tr>\n",
       "    <tr>\n",
       "      <th>TA0131</th>\n",
       "      <td>11</td>\n",
       "      <td>2019</td>\n",
       "      <td>2019-11-01</td>\n",
       "      <td>sM Campaign</td>\n",
       "      <td>7</td>\n",
       "    </tr>\n",
       "    <tr>\n",
       "      <th>TA0131</th>\n",
       "      <td>10</td>\n",
       "      <td>2019</td>\n",
       "      <td>2019-10-01</td>\n",
       "      <td>aM Campaign</td>\n",
       "      <td>145</td>\n",
       "    </tr>\n",
       "    <tr>\n",
       "      <th>TA0131</th>\n",
       "      <td>10</td>\n",
       "      <td>2019</td>\n",
       "      <td>2019-10-01</td>\n",
       "      <td>sM Campaign</td>\n",
       "      <td>12</td>\n",
       "    </tr>\n",
       "    <tr>\n",
       "      <th>TA0131</th>\n",
       "      <td>10</td>\n",
       "      <td>2019</td>\n",
       "      <td>2019-10-01</td>\n",
       "      <td>aM Direct</td>\n",
       "      <td>12</td>\n",
       "    </tr>\n",
       "    <tr>\n",
       "      <th>TA0131</th>\n",
       "      <td>10</td>\n",
       "      <td>2019</td>\n",
       "      <td>2019-10-01</td>\n",
       "      <td>sM Direct</td>\n",
       "      <td>1</td>\n",
       "    </tr>\n",
       "  </tbody>\n",
       "</table>\n",
       "</div>"
      ],
      "text/plain": [
       "        Month  Year Year Month TransactionType  Loyalty & Service Sales\n",
       "Dealer                                                                 \n",
       "TA0131     12  2019 2019-12-01     aM Campaign                      173\n",
       "TA0131     12  2019 2019-12-01       aM Direct                       11\n",
       "TA0131     12  2019 2019-12-01       sM Direct                        7\n",
       "TA0131     12  2019 2019-12-01     sM Campaign                        4\n",
       "TA0131     11  2019 2019-11-01     aM Campaign                      134\n",
       "TA0131     11  2019 2019-11-01       aM Direct                       12\n",
       "TA0131     11  2019 2019-11-01       sM Direct                        8\n",
       "TA0131     11  2019 2019-11-01     sM Campaign                        7\n",
       "TA0131     10  2019 2019-10-01     aM Campaign                      145\n",
       "TA0131     10  2019 2019-10-01     sM Campaign                       12\n",
       "TA0131     10  2019 2019-10-01       aM Direct                       12\n",
       "TA0131     10  2019 2019-10-01       sM Direct                        1"
      ]
     },
     "metadata": {},
     "output_type": "display_data"
    },
    {
     "data": {
      "text/html": [
       "<div>\n",
       "<style scoped>\n",
       "    .dataframe tbody tr th:only-of-type {\n",
       "        vertical-align: middle;\n",
       "    }\n",
       "\n",
       "    .dataframe tbody tr th {\n",
       "        vertical-align: top;\n",
       "    }\n",
       "\n",
       "    .dataframe thead th {\n",
       "        text-align: right;\n",
       "    }\n",
       "</style>\n",
       "<table border=\"1\" class=\"dataframe\">\n",
       "  <thead>\n",
       "    <tr style=\"text-align: right;\">\n",
       "      <th></th>\n",
       "      <th>Email_month</th>\n",
       "      <th>Email_Year Full</th>\n",
       "      <th>Sent</th>\n",
       "      <th>Delivered</th>\n",
       "      <th>Delivery %</th>\n",
       "    </tr>\n",
       "    <tr>\n",
       "      <th>Dealer</th>\n",
       "      <th></th>\n",
       "      <th></th>\n",
       "      <th></th>\n",
       "      <th></th>\n",
       "      <th></th>\n",
       "    </tr>\n",
       "  </thead>\n",
       "  <tbody>\n",
       "    <tr>\n",
       "      <th>TA0131</th>\n",
       "      <td>12</td>\n",
       "      <td>2019</td>\n",
       "      <td>26815</td>\n",
       "      <td>24118</td>\n",
       "      <td>0.899422</td>\n",
       "    </tr>\n",
       "    <tr>\n",
       "      <th>TA0131</th>\n",
       "      <td>11</td>\n",
       "      <td>2019</td>\n",
       "      <td>27324</td>\n",
       "      <td>25882</td>\n",
       "      <td>0.947226</td>\n",
       "    </tr>\n",
       "    <tr>\n",
       "      <th>TA0131</th>\n",
       "      <td>10</td>\n",
       "      <td>2019</td>\n",
       "      <td>26819</td>\n",
       "      <td>26210</td>\n",
       "      <td>0.977292</td>\n",
       "    </tr>\n",
       "  </tbody>\n",
       "</table>\n",
       "</div>"
      ],
      "text/plain": [
       "        Email_month  Email_Year Full   Sent  Delivered  Delivery %\n",
       "Dealer                                                            \n",
       "TA0131           12             2019  26815      24118    0.899422\n",
       "TA0131           11             2019  27324      25882    0.947226\n",
       "TA0131           10             2019  26819      26210    0.977292"
      ]
     },
     "metadata": {},
     "output_type": "display_data"
    }
   ],
   "source": [
    "TA0131_1 = df1.loc[df1['Dealer'] == 'TA0131'].sort_values(by='Month', ascending=False)\n",
    "TA0131_1.set_index('Dealer', inplace=True)\n",
    "display(TA0131_1)\n",
    "\n",
    "TA0131_2 = df2.loc[df2['Dealer'] == 'TA0131'].sort_values(by='Month', ascending=False)\n",
    "TA0131_2.set_index('Dealer', inplace=True)\n",
    "display(TA0131_2)\n",
    "\n",
    "TA0131_3 = df3.loc[df3['Dealer'] == 'TA0131'].sort_values(by='Month', ascending=False)\n",
    "TA0131_3.set_index('Dealer', inplace=True)\n",
    "display(TA0131_3)\n",
    "\n",
    "TA0131_4 = df4.loc[df4['Dealer'] == 'TA0131'].sort_values(by='Email_month', ascending=False)\n",
    "TA0131_4.set_index('Dealer', inplace=True)\n",
    "display(TA0131_4)"
   ]
  },
  {
   "cell_type": "markdown",
   "metadata": {},
   "source": [
    "### Aggregate results for MA0143"
   ]
  },
  {
   "cell_type": "code",
   "execution_count": 14,
   "metadata": {},
   "outputs": [
    {
     "data": {
      "text/html": [
       "<div>\n",
       "<style scoped>\n",
       "    .dataframe tbody tr th:only-of-type {\n",
       "        vertical-align: middle;\n",
       "    }\n",
       "\n",
       "    .dataframe tbody tr th {\n",
       "        vertical-align: top;\n",
       "    }\n",
       "\n",
       "    .dataframe thead th {\n",
       "        text-align: right;\n",
       "    }\n",
       "</style>\n",
       "<table border=\"1\" class=\"dataframe\">\n",
       "  <thead>\n",
       "    <tr style=\"text-align: right;\">\n",
       "      <th></th>\n",
       "      <th>Year</th>\n",
       "      <th>Month</th>\n",
       "      <th>Total Sales</th>\n",
       "    </tr>\n",
       "    <tr>\n",
       "      <th>Dealer</th>\n",
       "      <th></th>\n",
       "      <th></th>\n",
       "      <th></th>\n",
       "    </tr>\n",
       "  </thead>\n",
       "  <tbody>\n",
       "    <tr>\n",
       "      <th>MA0143</th>\n",
       "      <td>2019</td>\n",
       "      <td>12</td>\n",
       "      <td>191</td>\n",
       "    </tr>\n",
       "    <tr>\n",
       "      <th>MA0143</th>\n",
       "      <td>2019</td>\n",
       "      <td>11</td>\n",
       "      <td>170</td>\n",
       "    </tr>\n",
       "    <tr>\n",
       "      <th>MA0143</th>\n",
       "      <td>2019</td>\n",
       "      <td>10</td>\n",
       "      <td>170</td>\n",
       "    </tr>\n",
       "  </tbody>\n",
       "</table>\n",
       "</div>"
      ],
      "text/plain": [
       "        Year  Month  Total Sales\n",
       "Dealer                          \n",
       "MA0143  2019     12          191\n",
       "MA0143  2019     11          170\n",
       "MA0143  2019     10          170"
      ]
     },
     "metadata": {},
     "output_type": "display_data"
    },
    {
     "data": {
      "text/html": [
       "<div>\n",
       "<style scoped>\n",
       "    .dataframe tbody tr th:only-of-type {\n",
       "        vertical-align: middle;\n",
       "    }\n",
       "\n",
       "    .dataframe tbody tr th {\n",
       "        vertical-align: top;\n",
       "    }\n",
       "\n",
       "    .dataframe thead th {\n",
       "        text-align: right;\n",
       "    }\n",
       "</style>\n",
       "<table border=\"1\" class=\"dataframe\">\n",
       "  <thead>\n",
       "    <tr style=\"text-align: right;\">\n",
       "      <th></th>\n",
       "      <th>Month</th>\n",
       "      <th>Year</th>\n",
       "      <th>Year Month</th>\n",
       "      <th>Conquest Sales</th>\n",
       "    </tr>\n",
       "    <tr>\n",
       "      <th>Dealer</th>\n",
       "      <th></th>\n",
       "      <th></th>\n",
       "      <th></th>\n",
       "      <th></th>\n",
       "    </tr>\n",
       "  </thead>\n",
       "  <tbody>\n",
       "  </tbody>\n",
       "</table>\n",
       "</div>"
      ],
      "text/plain": [
       "Empty DataFrame\n",
       "Columns: [Month, Year, Year Month, Conquest Sales]\n",
       "Index: []"
      ]
     },
     "metadata": {},
     "output_type": "display_data"
    },
    {
     "data": {
      "text/html": [
       "<div>\n",
       "<style scoped>\n",
       "    .dataframe tbody tr th:only-of-type {\n",
       "        vertical-align: middle;\n",
       "    }\n",
       "\n",
       "    .dataframe tbody tr th {\n",
       "        vertical-align: top;\n",
       "    }\n",
       "\n",
       "    .dataframe thead th {\n",
       "        text-align: right;\n",
       "    }\n",
       "</style>\n",
       "<table border=\"1\" class=\"dataframe\">\n",
       "  <thead>\n",
       "    <tr style=\"text-align: right;\">\n",
       "      <th></th>\n",
       "      <th>Month</th>\n",
       "      <th>Year</th>\n",
       "      <th>Year Month</th>\n",
       "      <th>TransactionType</th>\n",
       "      <th>Loyalty &amp; Service Sales</th>\n",
       "    </tr>\n",
       "    <tr>\n",
       "      <th>Dealer</th>\n",
       "      <th></th>\n",
       "      <th></th>\n",
       "      <th></th>\n",
       "      <th></th>\n",
       "      <th></th>\n",
       "    </tr>\n",
       "  </thead>\n",
       "  <tbody>\n",
       "    <tr>\n",
       "      <th>MA0143</th>\n",
       "      <td>12</td>\n",
       "      <td>2019</td>\n",
       "      <td>2019-12-01</td>\n",
       "      <td>aM Campaign</td>\n",
       "      <td>56</td>\n",
       "    </tr>\n",
       "    <tr>\n",
       "      <th>MA0143</th>\n",
       "      <td>12</td>\n",
       "      <td>2019</td>\n",
       "      <td>2019-12-01</td>\n",
       "      <td>aM Direct</td>\n",
       "      <td>13</td>\n",
       "    </tr>\n",
       "    <tr>\n",
       "      <th>MA0143</th>\n",
       "      <td>12</td>\n",
       "      <td>2019</td>\n",
       "      <td>2019-12-01</td>\n",
       "      <td>sM Direct</td>\n",
       "      <td>10</td>\n",
       "    </tr>\n",
       "    <tr>\n",
       "      <th>MA0143</th>\n",
       "      <td>12</td>\n",
       "      <td>2019</td>\n",
       "      <td>2019-12-01</td>\n",
       "      <td>sM Campaign</td>\n",
       "      <td>9</td>\n",
       "    </tr>\n",
       "    <tr>\n",
       "      <th>MA0143</th>\n",
       "      <td>11</td>\n",
       "      <td>2019</td>\n",
       "      <td>2019-11-01</td>\n",
       "      <td>aM Campaign</td>\n",
       "      <td>49</td>\n",
       "    </tr>\n",
       "    <tr>\n",
       "      <th>MA0143</th>\n",
       "      <td>11</td>\n",
       "      <td>2019</td>\n",
       "      <td>2019-11-01</td>\n",
       "      <td>aM Direct</td>\n",
       "      <td>18</td>\n",
       "    </tr>\n",
       "    <tr>\n",
       "      <th>MA0143</th>\n",
       "      <td>11</td>\n",
       "      <td>2019</td>\n",
       "      <td>2019-11-01</td>\n",
       "      <td>sM Direct</td>\n",
       "      <td>4</td>\n",
       "    </tr>\n",
       "    <tr>\n",
       "      <th>MA0143</th>\n",
       "      <td>11</td>\n",
       "      <td>2019</td>\n",
       "      <td>2019-11-01</td>\n",
       "      <td>sM Campaign</td>\n",
       "      <td>2</td>\n",
       "    </tr>\n",
       "    <tr>\n",
       "      <th>MA0143</th>\n",
       "      <td>10</td>\n",
       "      <td>2019</td>\n",
       "      <td>2019-10-01</td>\n",
       "      <td>aM Campaign</td>\n",
       "      <td>65</td>\n",
       "    </tr>\n",
       "    <tr>\n",
       "      <th>MA0143</th>\n",
       "      <td>10</td>\n",
       "      <td>2019</td>\n",
       "      <td>2019-10-01</td>\n",
       "      <td>aM Direct</td>\n",
       "      <td>16</td>\n",
       "    </tr>\n",
       "    <tr>\n",
       "      <th>MA0143</th>\n",
       "      <td>10</td>\n",
       "      <td>2019</td>\n",
       "      <td>2019-10-01</td>\n",
       "      <td>sM Campaign</td>\n",
       "      <td>6</td>\n",
       "    </tr>\n",
       "    <tr>\n",
       "      <th>MA0143</th>\n",
       "      <td>10</td>\n",
       "      <td>2019</td>\n",
       "      <td>2019-10-01</td>\n",
       "      <td>sM Direct</td>\n",
       "      <td>5</td>\n",
       "    </tr>\n",
       "  </tbody>\n",
       "</table>\n",
       "</div>"
      ],
      "text/plain": [
       "        Month  Year Year Month TransactionType  Loyalty & Service Sales\n",
       "Dealer                                                                 \n",
       "MA0143     12  2019 2019-12-01     aM Campaign                       56\n",
       "MA0143     12  2019 2019-12-01       aM Direct                       13\n",
       "MA0143     12  2019 2019-12-01       sM Direct                       10\n",
       "MA0143     12  2019 2019-12-01     sM Campaign                        9\n",
       "MA0143     11  2019 2019-11-01     aM Campaign                       49\n",
       "MA0143     11  2019 2019-11-01       aM Direct                       18\n",
       "MA0143     11  2019 2019-11-01       sM Direct                        4\n",
       "MA0143     11  2019 2019-11-01     sM Campaign                        2\n",
       "MA0143     10  2019 2019-10-01     aM Campaign                       65\n",
       "MA0143     10  2019 2019-10-01       aM Direct                       16\n",
       "MA0143     10  2019 2019-10-01     sM Campaign                        6\n",
       "MA0143     10  2019 2019-10-01       sM Direct                        5"
      ]
     },
     "metadata": {},
     "output_type": "display_data"
    },
    {
     "data": {
      "text/html": [
       "<div>\n",
       "<style scoped>\n",
       "    .dataframe tbody tr th:only-of-type {\n",
       "        vertical-align: middle;\n",
       "    }\n",
       "\n",
       "    .dataframe tbody tr th {\n",
       "        vertical-align: top;\n",
       "    }\n",
       "\n",
       "    .dataframe thead th {\n",
       "        text-align: right;\n",
       "    }\n",
       "</style>\n",
       "<table border=\"1\" class=\"dataframe\">\n",
       "  <thead>\n",
       "    <tr style=\"text-align: right;\">\n",
       "      <th></th>\n",
       "      <th>Email_month</th>\n",
       "      <th>Email_Year Full</th>\n",
       "      <th>Sent</th>\n",
       "      <th>Delivered</th>\n",
       "      <th>Delivery %</th>\n",
       "    </tr>\n",
       "    <tr>\n",
       "      <th>Dealer</th>\n",
       "      <th></th>\n",
       "      <th></th>\n",
       "      <th></th>\n",
       "      <th></th>\n",
       "      <th></th>\n",
       "    </tr>\n",
       "  </thead>\n",
       "  <tbody>\n",
       "    <tr>\n",
       "      <th>MA0143</th>\n",
       "      <td>12</td>\n",
       "      <td>2019</td>\n",
       "      <td>4498</td>\n",
       "      <td>4236</td>\n",
       "      <td>0.941752</td>\n",
       "    </tr>\n",
       "    <tr>\n",
       "      <th>MA0143</th>\n",
       "      <td>11</td>\n",
       "      <td>2019</td>\n",
       "      <td>4471</td>\n",
       "      <td>4202</td>\n",
       "      <td>0.939834</td>\n",
       "    </tr>\n",
       "    <tr>\n",
       "      <th>MA0143</th>\n",
       "      <td>10</td>\n",
       "      <td>2019</td>\n",
       "      <td>4249</td>\n",
       "      <td>4145</td>\n",
       "      <td>0.975524</td>\n",
       "    </tr>\n",
       "  </tbody>\n",
       "</table>\n",
       "</div>"
      ],
      "text/plain": [
       "        Email_month  Email_Year Full  Sent  Delivered  Delivery %\n",
       "Dealer                                                           \n",
       "MA0143           12             2019  4498       4236    0.941752\n",
       "MA0143           11             2019  4471       4202    0.939834\n",
       "MA0143           10             2019  4249       4145    0.975524"
      ]
     },
     "metadata": {},
     "output_type": "display_data"
    }
   ],
   "source": [
    "MA0143_1 = df1.loc[df1['Dealer'] == 'MA0143'].sort_values(by='Month', ascending=False)\n",
    "MA0143_1.set_index('Dealer', inplace=True)\n",
    "display(MA0143_1)\n",
    "\n",
    "MA0143_2 = df2.loc[df2['Dealer'] == 'MA0143'].sort_values(by='Month', ascending=False)\n",
    "MA0143_2.set_index('Dealer', inplace=True)\n",
    "display(MA0143_2)\n",
    "\n",
    "MA0143_3 = df3.loc[df3['Dealer'] == 'MA0143'].sort_values(by='Month', ascending=False)\n",
    "MA0143_3.set_index('Dealer', inplace=True)\n",
    "display(MA0143_3)\n",
    "\n",
    "MA0143_4 = df4.loc[df4['Dealer'] == 'MA0143'].sort_values(by='Email_month', ascending=False)\n",
    "MA0143_4.set_index('Dealer', inplace=True)\n",
    "display(MA0143_4)"
   ]
  },
  {
   "cell_type": "markdown",
   "metadata": {},
   "source": [
    "### Aggregate results for CB0122"
   ]
  },
  {
   "cell_type": "code",
   "execution_count": 15,
   "metadata": {},
   "outputs": [
    {
     "data": {
      "text/html": [
       "<div>\n",
       "<style scoped>\n",
       "    .dataframe tbody tr th:only-of-type {\n",
       "        vertical-align: middle;\n",
       "    }\n",
       "\n",
       "    .dataframe tbody tr th {\n",
       "        vertical-align: top;\n",
       "    }\n",
       "\n",
       "    .dataframe thead th {\n",
       "        text-align: right;\n",
       "    }\n",
       "</style>\n",
       "<table border=\"1\" class=\"dataframe\">\n",
       "  <thead>\n",
       "    <tr style=\"text-align: right;\">\n",
       "      <th></th>\n",
       "      <th>Year</th>\n",
       "      <th>Month</th>\n",
       "      <th>Total Sales</th>\n",
       "    </tr>\n",
       "    <tr>\n",
       "      <th>Dealer</th>\n",
       "      <th></th>\n",
       "      <th></th>\n",
       "      <th></th>\n",
       "    </tr>\n",
       "  </thead>\n",
       "  <tbody>\n",
       "    <tr>\n",
       "      <th>CB0122</th>\n",
       "      <td>2019</td>\n",
       "      <td>12</td>\n",
       "      <td>367</td>\n",
       "    </tr>\n",
       "    <tr>\n",
       "      <th>CB0122</th>\n",
       "      <td>2019</td>\n",
       "      <td>11</td>\n",
       "      <td>375</td>\n",
       "    </tr>\n",
       "    <tr>\n",
       "      <th>CB0122</th>\n",
       "      <td>2019</td>\n",
       "      <td>10</td>\n",
       "      <td>380</td>\n",
       "    </tr>\n",
       "  </tbody>\n",
       "</table>\n",
       "</div>"
      ],
      "text/plain": [
       "        Year  Month  Total Sales\n",
       "Dealer                          \n",
       "CB0122  2019     12          367\n",
       "CB0122  2019     11          375\n",
       "CB0122  2019     10          380"
      ]
     },
     "metadata": {},
     "output_type": "display_data"
    },
    {
     "data": {
      "text/html": [
       "<div>\n",
       "<style scoped>\n",
       "    .dataframe tbody tr th:only-of-type {\n",
       "        vertical-align: middle;\n",
       "    }\n",
       "\n",
       "    .dataframe tbody tr th {\n",
       "        vertical-align: top;\n",
       "    }\n",
       "\n",
       "    .dataframe thead th {\n",
       "        text-align: right;\n",
       "    }\n",
       "</style>\n",
       "<table border=\"1\" class=\"dataframe\">\n",
       "  <thead>\n",
       "    <tr style=\"text-align: right;\">\n",
       "      <th></th>\n",
       "      <th>Month</th>\n",
       "      <th>Year</th>\n",
       "      <th>Year Month</th>\n",
       "      <th>Conquest Sales</th>\n",
       "    </tr>\n",
       "    <tr>\n",
       "      <th>Dealer</th>\n",
       "      <th></th>\n",
       "      <th></th>\n",
       "      <th></th>\n",
       "      <th></th>\n",
       "    </tr>\n",
       "  </thead>\n",
       "  <tbody>\n",
       "    <tr>\n",
       "      <th>CB0122</th>\n",
       "      <td>12</td>\n",
       "      <td>2019</td>\n",
       "      <td>43800</td>\n",
       "      <td>28</td>\n",
       "    </tr>\n",
       "    <tr>\n",
       "      <th>CB0122</th>\n",
       "      <td>11</td>\n",
       "      <td>2019</td>\n",
       "      <td>43770</td>\n",
       "      <td>20</td>\n",
       "    </tr>\n",
       "    <tr>\n",
       "      <th>CB0122</th>\n",
       "      <td>10</td>\n",
       "      <td>2019</td>\n",
       "      <td>43739</td>\n",
       "      <td>14</td>\n",
       "    </tr>\n",
       "  </tbody>\n",
       "</table>\n",
       "</div>"
      ],
      "text/plain": [
       "        Month  Year  Year Month  Conquest Sales\n",
       "Dealer                                         \n",
       "CB0122     12  2019       43800              28\n",
       "CB0122     11  2019       43770              20\n",
       "CB0122     10  2019       43739              14"
      ]
     },
     "metadata": {},
     "output_type": "display_data"
    },
    {
     "data": {
      "text/html": [
       "<div>\n",
       "<style scoped>\n",
       "    .dataframe tbody tr th:only-of-type {\n",
       "        vertical-align: middle;\n",
       "    }\n",
       "\n",
       "    .dataframe tbody tr th {\n",
       "        vertical-align: top;\n",
       "    }\n",
       "\n",
       "    .dataframe thead th {\n",
       "        text-align: right;\n",
       "    }\n",
       "</style>\n",
       "<table border=\"1\" class=\"dataframe\">\n",
       "  <thead>\n",
       "    <tr style=\"text-align: right;\">\n",
       "      <th></th>\n",
       "      <th>Month</th>\n",
       "      <th>Year</th>\n",
       "      <th>Year Month</th>\n",
       "      <th>TransactionType</th>\n",
       "      <th>Loyalty &amp; Service Sales</th>\n",
       "    </tr>\n",
       "    <tr>\n",
       "      <th>Dealer</th>\n",
       "      <th></th>\n",
       "      <th></th>\n",
       "      <th></th>\n",
       "      <th></th>\n",
       "      <th></th>\n",
       "    </tr>\n",
       "  </thead>\n",
       "  <tbody>\n",
       "    <tr>\n",
       "      <th>CB0122</th>\n",
       "      <td>12</td>\n",
       "      <td>2019</td>\n",
       "      <td>2019-12-01</td>\n",
       "      <td>aM Campaign</td>\n",
       "      <td>56</td>\n",
       "    </tr>\n",
       "    <tr>\n",
       "      <th>CB0122</th>\n",
       "      <td>12</td>\n",
       "      <td>2019</td>\n",
       "      <td>2019-12-01</td>\n",
       "      <td>sM Campaign</td>\n",
       "      <td>7</td>\n",
       "    </tr>\n",
       "    <tr>\n",
       "      <th>CB0122</th>\n",
       "      <td>12</td>\n",
       "      <td>2019</td>\n",
       "      <td>2019-12-01</td>\n",
       "      <td>sM Direct</td>\n",
       "      <td>4</td>\n",
       "    </tr>\n",
       "    <tr>\n",
       "      <th>CB0122</th>\n",
       "      <td>12</td>\n",
       "      <td>2019</td>\n",
       "      <td>2019-12-01</td>\n",
       "      <td>aM Direct</td>\n",
       "      <td>3</td>\n",
       "    </tr>\n",
       "    <tr>\n",
       "      <th>CB0122</th>\n",
       "      <td>11</td>\n",
       "      <td>2019</td>\n",
       "      <td>2019-11-01</td>\n",
       "      <td>aM Campaign</td>\n",
       "      <td>52</td>\n",
       "    </tr>\n",
       "    <tr>\n",
       "      <th>CB0122</th>\n",
       "      <td>11</td>\n",
       "      <td>2019</td>\n",
       "      <td>2019-11-01</td>\n",
       "      <td>aM Direct</td>\n",
       "      <td>6</td>\n",
       "    </tr>\n",
       "    <tr>\n",
       "      <th>CB0122</th>\n",
       "      <td>11</td>\n",
       "      <td>2019</td>\n",
       "      <td>2019-11-01</td>\n",
       "      <td>sM Campaign</td>\n",
       "      <td>5</td>\n",
       "    </tr>\n",
       "    <tr>\n",
       "      <th>CB0122</th>\n",
       "      <td>11</td>\n",
       "      <td>2019</td>\n",
       "      <td>2019-11-01</td>\n",
       "      <td>sM Direct</td>\n",
       "      <td>2</td>\n",
       "    </tr>\n",
       "    <tr>\n",
       "      <th>CB0122</th>\n",
       "      <td>10</td>\n",
       "      <td>2019</td>\n",
       "      <td>2019-10-01</td>\n",
       "      <td>aM Campaign</td>\n",
       "      <td>67</td>\n",
       "    </tr>\n",
       "    <tr>\n",
       "      <th>CB0122</th>\n",
       "      <td>10</td>\n",
       "      <td>2019</td>\n",
       "      <td>2019-10-01</td>\n",
       "      <td>aM Direct</td>\n",
       "      <td>5</td>\n",
       "    </tr>\n",
       "    <tr>\n",
       "      <th>CB0122</th>\n",
       "      <td>10</td>\n",
       "      <td>2019</td>\n",
       "      <td>2019-10-01</td>\n",
       "      <td>sM Campaign</td>\n",
       "      <td>2</td>\n",
       "    </tr>\n",
       "  </tbody>\n",
       "</table>\n",
       "</div>"
      ],
      "text/plain": [
       "        Month  Year Year Month TransactionType  Loyalty & Service Sales\n",
       "Dealer                                                                 \n",
       "CB0122     12  2019 2019-12-01     aM Campaign                       56\n",
       "CB0122     12  2019 2019-12-01     sM Campaign                        7\n",
       "CB0122     12  2019 2019-12-01       sM Direct                        4\n",
       "CB0122     12  2019 2019-12-01       aM Direct                        3\n",
       "CB0122     11  2019 2019-11-01     aM Campaign                       52\n",
       "CB0122     11  2019 2019-11-01       aM Direct                        6\n",
       "CB0122     11  2019 2019-11-01     sM Campaign                        5\n",
       "CB0122     11  2019 2019-11-01       sM Direct                        2\n",
       "CB0122     10  2019 2019-10-01     aM Campaign                       67\n",
       "CB0122     10  2019 2019-10-01       aM Direct                        5\n",
       "CB0122     10  2019 2019-10-01     sM Campaign                        2"
      ]
     },
     "metadata": {},
     "output_type": "display_data"
    },
    {
     "data": {
      "text/html": [
       "<div>\n",
       "<style scoped>\n",
       "    .dataframe tbody tr th:only-of-type {\n",
       "        vertical-align: middle;\n",
       "    }\n",
       "\n",
       "    .dataframe tbody tr th {\n",
       "        vertical-align: top;\n",
       "    }\n",
       "\n",
       "    .dataframe thead th {\n",
       "        text-align: right;\n",
       "    }\n",
       "</style>\n",
       "<table border=\"1\" class=\"dataframe\">\n",
       "  <thead>\n",
       "    <tr style=\"text-align: right;\">\n",
       "      <th></th>\n",
       "      <th>Email_month</th>\n",
       "      <th>Email_Year Full</th>\n",
       "      <th>Sent</th>\n",
       "      <th>Delivered</th>\n",
       "      <th>Delivery %</th>\n",
       "    </tr>\n",
       "    <tr>\n",
       "      <th>Dealer</th>\n",
       "      <th></th>\n",
       "      <th></th>\n",
       "      <th></th>\n",
       "      <th></th>\n",
       "      <th></th>\n",
       "    </tr>\n",
       "  </thead>\n",
       "  <tbody>\n",
       "    <tr>\n",
       "      <th>CB0122</th>\n",
       "      <td>12</td>\n",
       "      <td>2019</td>\n",
       "      <td>6913</td>\n",
       "      <td>6369</td>\n",
       "      <td>0.921308</td>\n",
       "    </tr>\n",
       "    <tr>\n",
       "      <th>CB0122</th>\n",
       "      <td>11</td>\n",
       "      <td>2019</td>\n",
       "      <td>6500</td>\n",
       "      <td>6014</td>\n",
       "      <td>0.925231</td>\n",
       "    </tr>\n",
       "    <tr>\n",
       "      <th>CB0122</th>\n",
       "      <td>10</td>\n",
       "      <td>2019</td>\n",
       "      <td>6794</td>\n",
       "      <td>6513</td>\n",
       "      <td>0.958640</td>\n",
       "    </tr>\n",
       "  </tbody>\n",
       "</table>\n",
       "</div>"
      ],
      "text/plain": [
       "        Email_month  Email_Year Full  Sent  Delivered  Delivery %\n",
       "Dealer                                                           \n",
       "CB0122           12             2019  6913       6369    0.921308\n",
       "CB0122           11             2019  6500       6014    0.925231\n",
       "CB0122           10             2019  6794       6513    0.958640"
      ]
     },
     "metadata": {},
     "output_type": "display_data"
    }
   ],
   "source": [
    "CB0122_1 = df1.loc[df1['Dealer'] == 'CB0122'].sort_values(by='Month', ascending=False)\n",
    "CB0122_1.set_index('Dealer', inplace=True)\n",
    "display(CB0122_1)\n",
    "\n",
    "CB0122_2 = df2.loc[df2['Dealer'] == 'CB0122'].sort_values(by='Month', ascending=False)\n",
    "CB0122_2.set_index('Dealer', inplace=True)\n",
    "display(CB0122_2)\n",
    "\n",
    "CB0122_3 = df3.loc[df3['Dealer'] == 'CB0122'].sort_values(by='Month', ascending=False)\n",
    "CB0122_3.set_index('Dealer', inplace=True)\n",
    "display(CB0122_3)\n",
    "\n",
    "CB0122_4 = df4.loc[df4['Dealer'] == 'CB0122'].sort_values(by='Email_month', ascending=False)\n",
    "CB0122_4.set_index('Dealer', inplace=True)\n",
    "display(CB0122_4)"
   ]
  },
  {
   "cell_type": "markdown",
   "metadata": {},
   "source": [
    "## Q2 - For the three dealers specified above, computer the following:"
   ]
  },
  {
   "cell_type": "code",
   "execution_count": 16,
   "metadata": {},
   "outputs": [],
   "source": [
    "select_dealer = ['TA0131', 'MA0143', 'CB0122']"
   ]
  },
  {
   "cell_type": "markdown",
   "metadata": {},
   "source": [
    "### a) Total dealership sales volume"
   ]
  },
  {
   "cell_type": "code",
   "execution_count": 17,
   "metadata": {},
   "outputs": [
    {
     "data": {
      "text/plain": [
       "[2573, 531, 1122]"
      ]
     },
     "execution_count": 17,
     "metadata": {},
     "output_type": "execute_result"
    }
   ],
   "source": [
    "# Total dealership sales sub-df\n",
    "select_df1 = [TA0131_1, MA0143_1, CB0122_1]\n",
    "\n",
    "total_sales = []\n",
    "for df1 in select_df1:\n",
    "                                          # find each dealer's\n",
    "    total_sale = df1['Total Sales'].sum() # total sales in 3-month period\n",
    "    total_sales.append(total_sale)\n",
    "\n",
    "total_sales"
   ]
  },
  {
   "cell_type": "code",
   "execution_count": 18,
   "metadata": {},
   "outputs": [
    {
     "data": {
      "text/plain": [
       "{'TA0131': 2573, 'MA0143': 531, 'CB0122': 1122}"
      ]
     },
     "execution_count": 18,
     "metadata": {},
     "output_type": "execute_result"
    }
   ],
   "source": [
    "# Create a dictionary to combine dealerID with total sales\n",
    "dealer_total_sales = dict(zip(select_dealer, total_sales))\n",
    "dealer_total_sales"
   ]
  },
  {
   "cell_type": "code",
   "execution_count": 19,
   "metadata": {},
   "outputs": [
    {
     "name": "stdout",
     "output_type": "stream",
     "text": [
      "Total dealership sales volume by TA0131 is 2573. \n",
      "\n",
      "Total dealership sales volume by MA0143 is 531. \n",
      "\n",
      "Total dealership sales volume by CB0122 is 1122. \n",
      "\n",
      "All three selected dealers' total dealership sales volume is 4226.\n"
     ]
    }
   ],
   "source": [
    "for key, value in dealer_total_sales.items():\n",
    "    print(\"Total dealership sales volume by {} is {}. \\n\".format(key, value))\n",
    "                                                                   \n",
    "print(\"All three selected dealers' total dealership sales volume is {}.\".format(sum(total_sales)))"
   ]
  },
  {
   "cell_type": "markdown",
   "metadata": {},
   "source": [
    "### b) Average monthly total dealership sales volume for the three-month period, in total and by dealer"
   ]
  },
  {
   "cell_type": "code",
   "execution_count": 20,
   "metadata": {},
   "outputs": [
    {
     "name": "stdout",
     "output_type": "stream",
     "text": [
      "Average monthly total dealership sales volume for 3-month period by TA0131 is 857.67. \n",
      "\n",
      "Average monthly total dealership sales volume for 3-month period by MA0143 is 177.0. \n",
      "\n",
      "Average monthly total dealership sales volume for 3-month period by CB0122 is 374.0. \n",
      "\n",
      "All three selected dealers' average monthly dealership sales volume for 3-month period is 1408.67.\n"
     ]
    }
   ],
   "source": [
    "avg_sales = []\n",
    "for df in select_df1:\n",
    "                                            # find each dealer's\n",
    "    average_sale = df['Total Sales'].mean() # average of total sales for 3-month period\n",
    "    avg_sales.append(round(average_sale, 2))\n",
    "\n",
    "dealer_avg_sales = dict(zip(select_dealer, avg_sales))\n",
    "\n",
    "for key, value in dealer_avg_sales.items():\n",
    "    print(\"Average monthly total dealership sales volume for 3-month period by {} is {}. \\n\"\\\n",
    "          .format(key, value))\n",
    "\n",
    "print(\"All three selected dealers' average monthly dealership sales volume for 3-month period is {}.\"\\\n",
    "      .format(round(sum(avg_sales), 2)))"
   ]
  },
  {
   "cell_type": "markdown",
   "metadata": {},
   "source": [
    "### c) Attributable volume, in total and by loyalty/service vs. conquest, in total and by dealer"
   ]
  },
  {
   "cell_type": "code",
   "execution_count": 21,
   "metadata": {},
   "outputs": [],
   "source": [
    "# Conquest sub-df\n",
    "select_df2 = [TA0131_2, MA0143_2, CB0122_2]\n",
    "\n",
    "# Loyal/service sub-df\n",
    "select_df3 = [TA0131_3, MA0143_3, CB0122_3]"
   ]
  },
  {
   "cell_type": "code",
   "execution_count": 22,
   "metadata": {},
   "outputs": [
    {
     "name": "stdout",
     "output_type": "stream",
     "text": [
      "Attributable volume by conquest sales by TA0131 is 59. \n",
      "\n",
      "Attributable volume by conquest sales by MA0143 is 0. \n",
      "\n",
      "Attributable volume by conquest sales by CB0122 is 62. \n",
      "\n",
      "All three selected dealers' attributable volume by conquest sales is 121.\n"
     ]
    }
   ],
   "source": [
    "total_conquest = []\n",
    "for df2 in select_df2:\n",
    "                                                      # for each dealer's\n",
    "    total_conquest_sale = df2['Conquest Sales'].sum() # total conquest sale in 3-month period\n",
    "    total_conquest.append(total_conquest_sale)\n",
    "\n",
    "total_conquest_sales = dict(zip(select_dealer, total_conquest))\n",
    "\n",
    "for key, value in total_conquest_sales.items():\n",
    "    print(\"Attributable volume by conquest sales by {} is {}. \\n\".format(key, value))\n",
    "\n",
    "print(\"All three selected dealers' attributable volume by conquest sales is {}.\".format(sum(total_conquest)))"
   ]
  },
  {
   "cell_type": "code",
   "execution_count": 23,
   "metadata": {},
   "outputs": [
    {
     "name": "stdout",
     "output_type": "stream",
     "text": [
      "Attributable volume by loyal/service sales by TA0131 is 526. \n",
      "\n",
      "Attributable volume by loyal/service sales by MA0143 is 253. \n",
      "\n",
      "Attributable volume by loyal/service sales by CB0122 is 209. \n",
      "\n",
      "All three selected dealers' attributable volume by loyal/service sale is 988.\n"
     ]
    }
   ],
   "source": [
    "total_loyal = []\n",
    "for df3 in select_df3:\n",
    "                                                                    # for each dealer's\n",
    "    total_loyal_service_sale = df3['Loyalty & Service Sales'].sum() # total loyal/service sale in 3-month period\n",
    "    total_loyal.append(total_loyal_service_sale)\n",
    "\n",
    "total_loyal_sales = dict(zip(select_dealer, total_loyal))\n",
    "\n",
    "for key, value in total_loyal_sales.items():\n",
    "    print(\"Attributable volume by loyal/service sales by {} is {}. \\n\".format(key, value))\n",
    "    \n",
    "print(\"All three selected dealers' attributable volume by loyal/service sale is {}.\".format(sum(total_loyal)))"
   ]
  },
  {
   "cell_type": "code",
   "execution_count": 24,
   "metadata": {},
   "outputs": [
    {
     "name": "stdout",
     "output_type": "stream",
     "text": [
      "Total attribute volume by conquest sales and loyal/service sales by TA0131 is 585. \n",
      "\n",
      "Total attribute volume by conquest sales and loyal/service sales by MA0143 is 253. \n",
      "\n",
      "Total attribute volume by conquest sales and loyal/service sales by CB0122 is 271. \n",
      "\n",
      "All three selected dealers' total attribute volume by conquest sales and loyal/service sales is 1109.\n"
     ]
    }
   ],
   "source": [
    "# Total attribute sale = conquest sale and loyal/service sale\n",
    "attribute = zip(total_conquest, total_loyal)\n",
    "total_attribute = [x + y for x, y in attribute]\n",
    "\n",
    "total_attribute_sales = dict(zip(select_dealer, total_attribute))\n",
    "\n",
    "for key, value in total_attribute_sales.items():\n",
    "    print(\"Total attribute volume by conquest sales and loyal/service sales by {} is {}. \\n\".format(key, value))\n",
    "\n",
    "print(\"All three selected dealers' total attribute volume by conquest sales and loyal/service sales is {}.\"\\\n",
    "      .format(sum(total_attribute)))"
   ]
  },
  {
   "cell_type": "markdown",
   "metadata": {},
   "source": [
    "### d) Average monthly attributable volume for the three-month period, in total and by dealer\n"
   ]
  },
  {
   "cell_type": "code",
   "execution_count": 25,
   "metadata": {},
   "outputs": [
    {
     "name": "stdout",
     "output_type": "stream",
     "text": [
      "Average monthly attribute volume for 3-month period by TA0131 is 195.0. \n",
      "\n",
      "Average monthly attribute volume for 3-month period by MA0143 is 84.33. \n",
      "\n",
      "Average monthly attribute volume for 3-month period by CB0122 is 90.33. \n",
      "\n",
      "All selected dealers' average monthly attribute volume for 3-month period is 369.66.\n"
     ]
    }
   ],
   "source": [
    "avg_attribute = []\n",
    "for number in total_attribute:\n",
    "                                             # for each dealer's\n",
    "    avg_attribute.append(round(number/3, 2)) # average total attribute sale for 3-month period\n",
    "\n",
    "avg_attribute_sales = dict(zip(select_dealer, avg_attribute))\n",
    "\n",
    "for key, value in avg_attribute_sales.items():\n",
    "    print(\"Average monthly attribute volume for 3-month period by {} is {}. \\n\".format(key, value))\n",
    "\n",
    "print(\"All selected dealers' average monthly attribute volume for 3-month period is {}.\"\\\n",
    "      .format(round(sum(avg_attribute), 2)))"
   ]
  },
  {
   "cell_type": "markdown",
   "metadata": {},
   "source": [
    "### e) Average email delivery rate for the three-month period, in total and by dealer"
   ]
  },
  {
   "cell_type": "code",
   "execution_count": 26,
   "metadata": {},
   "outputs": [
    {
     "name": "stdout",
     "output_type": "stream",
     "text": [
      "Average email delivery rate for 3-month period by TA0131 is 0.9413. \n",
      "\n",
      "Average email delivery rate for 3-month period by MA0143 is 0.9524. \n",
      "\n",
      "Average email delivery rate for 3-month period by CB0122 is 0.9351. \n",
      "\n",
      "All three selected dealers' average email delivery rate for 3-month period is 2.8288.\n"
     ]
    }
   ],
   "source": [
    "# Email sub-df\n",
    "select_df4 = [TA0131_4, MA0143_4, CB0122_4]\n",
    "\n",
    "avg_email = []\n",
    "for df4 in select_df4:\n",
    "                                                  # for each dealer's\n",
    "    avg_email_delivery = df4['Delivery %'].mean() # average of email delivery rate for 3-month period\n",
    "    avg_email.append(round(avg_email_delivery, 4))\n",
    "\n",
    "dealer_email = dict(zip(select_dealer, avg_email))\n",
    "\n",
    "for key, value in dealer_email.items():\n",
    "    print(\"Average email delivery rate for 3-month period by {} is {}. \\n\".format(key, value))\n",
    "\n",
    "print(\"All three selected dealers' average email delivery rate for 3-month period is {}.\"\\\n",
    "      .format(round(sum(avg_email), 4)))"
   ]
  },
  {
   "cell_type": "markdown",
   "metadata": {},
   "source": [
    "## Q3 - Of the same three dealers, which dealer carries the highest volume of attributable sales for the period?"
   ]
  },
  {
   "cell_type": "code",
   "execution_count": 27,
   "metadata": {},
   "outputs": [
    {
     "name": "stdout",
     "output_type": "stream",
     "text": [
      "{'TA0131': 585, 'MA0143': 253, 'CB0122': 271} \n",
      "\n",
      "TA0131 carries the highest volume of attribute sales.\n"
     ]
    }
   ],
   "source": [
    "print(total_attribute_sales, \"\\n\")\n",
    "\n",
    "# Find the key with the max value in dictionary\n",
    "max_volume = max(total_attribute_sales, key=total_attribute_sales.get)\n",
    "\n",
    "print(\"{} carries the highest volume of attribute sales.\".format(max_volume))"
   ]
  },
  {
   "cell_type": "markdown",
   "metadata": {},
   "source": [
    "## Q4 - Of the same three dealers, which dealer carries the highest ratio of attributable sales (total attributable sales) for the period?\n",
    "- ratio = attribute sales / total sales"
   ]
  },
  {
   "cell_type": "code",
   "execution_count": 28,
   "metadata": {},
   "outputs": [
    {
     "name": "stdout",
     "output_type": "stream",
     "text": [
      "Attribute sales:  [585, 253, 271] \n",
      "\n",
      "Total sales:  [2573, 531, 1122]\n"
     ]
    }
   ],
   "source": [
    "print(\"Attribute sales: \", total_attribute, \"\\n\")\n",
    "print(\"Total sales: \", total_sales)"
   ]
  },
  {
   "cell_type": "code",
   "execution_count": 29,
   "metadata": {},
   "outputs": [
    {
     "name": "stdout",
     "output_type": "stream",
     "text": [
      "{'TA0131': 0.2274, 'MA0143': 0.4765, 'CB0122': 0.2415} \n",
      "\n",
      "MA0143 carries the highest ratio of attribute sales.\n"
     ]
    }
   ],
   "source": [
    "# ratio = attribute sale / total sale\n",
    "r = [i/j for i, j in zip(total_attribute, total_sales)]\n",
    "\n",
    "# round r with 4 decimal place\n",
    "r = [round(num, 4) for num in r]\n",
    "\n",
    "ratio = dict(zip(select_dealer, r))\n",
    "print(ratio, \"\\n\")\n",
    "\n",
    "max_ratio = max(ratio, key=ratio.get)\n",
    "\n",
    "print(\"{} carries the highest ratio of attribute sales.\".format(max_ratio))"
   ]
  },
  {
   "cell_type": "markdown",
   "metadata": {},
   "source": [
    "## Q5 - Of the same three dealers, which dealer exhibited the greatest change in attributable sales between November and December?\n",
    "- Expect to find the difference between Nov and Dec\n",
    "- Bigger difference -> greater change"
   ]
  },
  {
   "cell_type": "code",
   "execution_count": 30,
   "metadata": {},
   "outputs": [
    {
     "data": {
      "text/plain": [
       "[7, 0, 8]"
      ]
     },
     "execution_count": 30,
     "metadata": {},
     "output_type": "execute_result"
    }
   ],
   "source": [
    "# Conquest sales difference between November and December\n",
    "conq_diff = []\n",
    "\n",
    "for df2 in select_df2:\n",
    "    conq_list = df2['Conquest Sales'].tolist()\n",
    "    \n",
    "    if bool(conq_list) == True:\n",
    "        diff = conq_list[0] - conq_list[1] # Select dataframe is sorted by month in a descending order\n",
    "                                           # December -> November -> October\n",
    "                                           # As a result, when the values are put in a list, it follows the order                               \n",
    "        conq_diff.append(diff)\n",
    "    \n",
    "    # Since MA0143 has no attributale sale by conquest, the corresponding list will be empty\n",
    "    # Empy list can not perform any algebraic operation -> just append 0 for the difference\n",
    "    else:\n",
    "        conq_diff.append(0)\n",
    "\n",
    "conq_diff"
   ]
  },
  {
   "cell_type": "code",
   "execution_count": 31,
   "metadata": {},
   "outputs": [
    {
     "data": {
      "text/html": [
       "<div>\n",
       "<style scoped>\n",
       "    .dataframe tbody tr th:only-of-type {\n",
       "        vertical-align: middle;\n",
       "    }\n",
       "\n",
       "    .dataframe tbody tr th {\n",
       "        vertical-align: top;\n",
       "    }\n",
       "\n",
       "    .dataframe thead th {\n",
       "        text-align: right;\n",
       "    }\n",
       "</style>\n",
       "<table border=\"1\" class=\"dataframe\">\n",
       "  <thead>\n",
       "    <tr style=\"text-align: right;\">\n",
       "      <th></th>\n",
       "      <th>sum</th>\n",
       "    </tr>\n",
       "    <tr>\n",
       "      <th>Month</th>\n",
       "      <th></th>\n",
       "    </tr>\n",
       "  </thead>\n",
       "  <tbody>\n",
       "    <tr>\n",
       "      <th>12</th>\n",
       "      <td>195</td>\n",
       "    </tr>\n",
       "    <tr>\n",
       "      <th>11</th>\n",
       "      <td>161</td>\n",
       "    </tr>\n",
       "    <tr>\n",
       "      <th>10</th>\n",
       "      <td>170</td>\n",
       "    </tr>\n",
       "  </tbody>\n",
       "</table>\n",
       "</div>"
      ],
      "text/plain": [
       "       sum\n",
       "Month     \n",
       "12     195\n",
       "11     161\n",
       "10     170"
      ]
     },
     "metadata": {},
     "output_type": "display_data"
    },
    {
     "data": {
      "text/html": [
       "<div>\n",
       "<style scoped>\n",
       "    .dataframe tbody tr th:only-of-type {\n",
       "        vertical-align: middle;\n",
       "    }\n",
       "\n",
       "    .dataframe tbody tr th {\n",
       "        vertical-align: top;\n",
       "    }\n",
       "\n",
       "    .dataframe thead th {\n",
       "        text-align: right;\n",
       "    }\n",
       "</style>\n",
       "<table border=\"1\" class=\"dataframe\">\n",
       "  <thead>\n",
       "    <tr style=\"text-align: right;\">\n",
       "      <th></th>\n",
       "      <th>sum</th>\n",
       "    </tr>\n",
       "    <tr>\n",
       "      <th>Month</th>\n",
       "      <th></th>\n",
       "    </tr>\n",
       "  </thead>\n",
       "  <tbody>\n",
       "    <tr>\n",
       "      <th>12</th>\n",
       "      <td>88</td>\n",
       "    </tr>\n",
       "    <tr>\n",
       "      <th>11</th>\n",
       "      <td>73</td>\n",
       "    </tr>\n",
       "    <tr>\n",
       "      <th>10</th>\n",
       "      <td>92</td>\n",
       "    </tr>\n",
       "  </tbody>\n",
       "</table>\n",
       "</div>"
      ],
      "text/plain": [
       "       sum\n",
       "Month     \n",
       "12      88\n",
       "11      73\n",
       "10      92"
      ]
     },
     "metadata": {},
     "output_type": "display_data"
    },
    {
     "data": {
      "text/html": [
       "<div>\n",
       "<style scoped>\n",
       "    .dataframe tbody tr th:only-of-type {\n",
       "        vertical-align: middle;\n",
       "    }\n",
       "\n",
       "    .dataframe tbody tr th {\n",
       "        vertical-align: top;\n",
       "    }\n",
       "\n",
       "    .dataframe thead th {\n",
       "        text-align: right;\n",
       "    }\n",
       "</style>\n",
       "<table border=\"1\" class=\"dataframe\">\n",
       "  <thead>\n",
       "    <tr style=\"text-align: right;\">\n",
       "      <th></th>\n",
       "      <th>sum</th>\n",
       "    </tr>\n",
       "    <tr>\n",
       "      <th>Month</th>\n",
       "      <th></th>\n",
       "    </tr>\n",
       "  </thead>\n",
       "  <tbody>\n",
       "    <tr>\n",
       "      <th>12</th>\n",
       "      <td>70</td>\n",
       "    </tr>\n",
       "    <tr>\n",
       "      <th>11</th>\n",
       "      <td>65</td>\n",
       "    </tr>\n",
       "    <tr>\n",
       "      <th>10</th>\n",
       "      <td>74</td>\n",
       "    </tr>\n",
       "  </tbody>\n",
       "</table>\n",
       "</div>"
      ],
      "text/plain": [
       "       sum\n",
       "Month     \n",
       "12      70\n",
       "11      65\n",
       "10      74"
      ]
     },
     "metadata": {},
     "output_type": "display_data"
    },
    {
     "data": {
      "text/plain": [
       "[34, 15, 5]"
      ]
     },
     "execution_count": 31,
     "metadata": {},
     "output_type": "execute_result"
    }
   ],
   "source": [
    "# Loyal sales difference between November and December\n",
    "loyal_diff = []\n",
    "\n",
    "for df3 in select_df3:\n",
    "    \n",
    "    # Create a new sub-df by group the month together and find the sum of loyal sale for that month\n",
    "    new_df3 = df3.groupby('Month')['Loyalty & Service Sales'].agg(['sum']).sort_index(ascending=False)\n",
    "    \n",
    "    # Preview\n",
    "    display(new_df3)\n",
    "    \n",
    "    loyal_list = new_df3['sum'].tolist()\n",
    "    loyal_diff.append(loyal_list[0] - loyal_list[1])\n",
    "\n",
    "loyal_diff"
   ]
  },
  {
   "cell_type": "code",
   "execution_count": 32,
   "metadata": {},
   "outputs": [
    {
     "data": {
      "text/plain": [
       "[41, 15, 13]"
      ]
     },
     "execution_count": 32,
     "metadata": {},
     "output_type": "execute_result"
    }
   ],
   "source": [
    "# Attribute diff = Conquest diff + Loyal diff\n",
    "attribute_diff = [x + y for x, y in zip(conq_diff, loyal_diff)]\n",
    "attribute_diff"
   ]
  },
  {
   "cell_type": "code",
   "execution_count": 33,
   "metadata": {},
   "outputs": [
    {
     "name": "stdout",
     "output_type": "stream",
     "text": [
      "{'TA0131': 41, 'MA0143': 15, 'CB0122': 13} \n",
      "\n",
      "TA0131 exhibited the greatest change in attributable sales between November and December.\n"
     ]
    }
   ],
   "source": [
    "attribute_change = dict(zip(select_dealer, attribute_diff))\n",
    "print(attribute_change, \"\\n\")\n",
    "\n",
    "max_change = max(attribute_change, key=attribute_change.get)\n",
    "\n",
    "print(\"{} exhibited the greatest change in attributable sales between November and December.\".format(max_change))"
   ]
  }
 ],
 "metadata": {
  "kernelspec": {
   "display_name": "Python 3",
   "language": "python",
   "name": "python3"
  },
  "language_info": {
   "codemirror_mode": {
    "name": "ipython",
    "version": 3
   },
   "file_extension": ".py",
   "mimetype": "text/x-python",
   "name": "python",
   "nbconvert_exporter": "python",
   "pygments_lexer": "ipython3",
   "version": "3.6.9"
  },
  "toc": {
   "base_numbering": 1,
   "nav_menu": {},
   "number_sections": false,
   "sideBar": true,
   "skip_h1_title": false,
   "title_cell": "Table of Contents",
   "title_sidebar": "Contents",
   "toc_cell": false,
   "toc_position": {
    "height": "calc(100% - 180px)",
    "left": "10px",
    "top": "150px",
    "width": "286.712px"
   },
   "toc_section_display": true,
   "toc_window_display": false
  }
 },
 "nbformat": 4,
 "nbformat_minor": 4
}
